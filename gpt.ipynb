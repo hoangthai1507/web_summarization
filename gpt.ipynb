{
 "cells": [
  {
   "cell_type": "code",
   "execution_count": 11,
   "metadata": {},
   "outputs": [],
   "source": [
    "import json\n",
    "import requests\n",
    "import openai\n",
    "\n",
    "from bs4 import BeautifulSoup\n",
    "from PIL import Image\n",
    "from io import BytesIO\n",
    "\n",
    "from rouge import Rouge\n",
    "\n",
    "from transformers import pipeline"
   ]
  },
  {
   "cell_type": "code",
   "execution_count": 12,
   "metadata": {},
   "outputs": [],
   "source": [
    "model_engine = \"text-davinci-003\"\n",
    "openai.api_key = 'YOUR_KEY_API'\n",
    "url = 'https://vnexpress.net'"
   ]
  },
  {
   "cell_type": "code",
   "execution_count": 13,
   "metadata": {},
   "outputs": [],
   "source": [
    "#Hàm thực hiện lấy title từ trang web vnexpress\n",
    "def get_title(url):\n",
    "    # Gửi yêu cầu HTTP đến trang web\n",
    "\n",
    "    response = requests.get(url)\n",
    "\n",
    "    # Lấy HTML của trang web\n",
    "    html = response.text\n",
    "\n",
    "    # Phân tích HTML bằng BeautifulSoup\n",
    "    soup = BeautifulSoup(html, 'html.parser')\n",
    "\n",
    "    # Tìm tất cả các thẻ h3 chứa tiêu đề trên trang\n",
    "    titles = soup.find_all('h3')\n",
    "\n",
    "    titles_list = []\n",
    "    for title in titles:\n",
    "        titles_list.append(title.text)\n",
    "    titles_list = [s.replace('\\n', '') for s in titles_list]\n",
    "    for i in range(len(titles_list)):\n",
    "        titles_list[i] = titles_list[i].strip()\n",
    "    return titles_list"
   ]
  },
  {
   "cell_type": "code",
   "execution_count": 14,
   "metadata": {},
   "outputs": [],
   "source": [
    "#Hàm lấy liên kết dựa trên tile, giá trị truyền vào là tên của title (vd: Ngân hàng Nhà nước: Sẽ chuyển giao bắt buộc 4 ngân hàng kiểm soát đặc biệt)\n",
    "#url là https://vnexpress.net\n",
    "def get_link_by_title(title, url):\n",
    "\n",
    "    # Gửi yêu cầu HTTP đến trang web\n",
    "\n",
    "    response = requests.get(url)\n",
    "\n",
    "    # Lấy HTML của trang web\n",
    "    html = response.text\n",
    "\n",
    "    # Phân tích HTML bằng BeautifulSoup\n",
    "    soup = BeautifulSoup(html, 'html.parser')\n",
    "\n",
    "    # Tìm tất cả các thẻ a chứa tiêu đề trên trang\n",
    "    links = soup.find_all('a', {'title': title})\n",
    "\n",
    "    # Kiểm tra xem có tìm thấy liên kết không\n",
    "    if len(links) == 0:\n",
    "        print('Không tìm thấy liên kết cho tiêu đề này')\n",
    "    else:\n",
    "        # Trả về liên kết đầu tiên tìm được\n",
    "        return links[0]['href']"
   ]
  },
  {
   "cell_type": "code",
   "execution_count": 15,
   "metadata": {},
   "outputs": [],
   "source": [
    "#Lấy nội dung của bài viết, kết quả trả về kà danh sách là lines của bài viết\n",
    "def get_content(url):\n",
    "\n",
    "    # Lấy nội dung của trang web\n",
    "    response = requests.get(url)\n",
    "    html_content = response.content\n",
    "\n",
    "    # Phân tích cú pháp HTML\n",
    "    soup = BeautifulSoup(html_content, 'html.parser')\n",
    "    # Lấy phần tử p  cí class description\n",
    "    description =soup.find(['p'], class_= 'description')\n",
    "    # Lấy tất cả các phần tử p và figure có class là Normal\n",
    "    normal_elements = soup.find_all(['p', 'figure'], class_='Normal')\n",
    "\n",
    "    # In ra nội dung của các phần tử đó\n",
    "    content = []\n",
    "    if description:\n",
    "        content.append(description.text.strip())\n",
    "    for i in normal_elements:\n",
    "        content.append(i.text.strip())\n",
    "    return content"
   ]
  },
  {
   "cell_type": "code",
   "execution_count": 48,
   "metadata": {},
   "outputs": [
    {
     "name": "stdout",
     "output_type": "stream",
     "text": [
      "Chính phủ đề nghị Quốc hội xem xét giảm thuế VAT vào tháng 5\n"
     ]
    }
   ],
   "source": [
    "titel = get_title(url)[0]\n",
    "print(titel)"
   ]
  },
  {
   "cell_type": "code",
   "execution_count": null,
   "metadata": {},
   "outputs": [
    {
     "name": "stdout",
     "output_type": "stream",
     "text": [
      "Ngân hàng Nhà nước cho biết đã được phê duyệt chủ trương chuyển giao bắt buộc với CBBank, OceanBank, GPBank và DongABank. Tại báo cáo gửi Uỷ ban Kinh tế của Quốc hội cuối tháng 4, Ngân hàng Nhà nước cho biết, cơ quan này đã trình và được cấp có thẩm quyền phê duyệt chủ trương chuyển giao bắt buộc với 4 ngân hàng được kiểm soát đặc biệt, trong đó có 3 ngân hàng mua bắt buộc (CBBank, OceanBank, GPBank) và Ngân hàng Đông Á. Hiện các nội dung tiếp theo đang được các bên liên quan thực hiện để trình Chính phủ phê duyệt phương án cơ cấu lại các ngân hàng này theo trình tự, thủ tục quy định, theo Ngân hàng Nhà nước. Với Ngân hàng Sài Gòn (SCB) - nhà băng được đặt vào diện kiểm soát đặc biệt từ tháng 10/2022, Ngân hàng Nhà nước cho biết đang thực hiện các thủ tục đánh giá tổng thể thực trạng để có cơ sở xây dựng phương án cơ cấu lại ngân hàng này, báo cáo cấp có thẩm quyền phê duyệt. Nửa năm sau khi bị đưa vào diện kiểm soát đặc biệt, theo cơ quan quản lý, hoạt động của SCB \"trong tầm kiểm soát, dần ổn định\". Trong quá trình cơ cấu hệ thống ngân hàng, 3 nhà băng bị mua lại với giá 0 đồng vào năm 2015, gồm Ngân hàng Xây dựng (CBBank), Ngân hàng Đại Dương (OceanBank) và Ngân hàng Dầu khí Toàn cầu (GP Bank). Cùng năm này, Ngân hàng Đông Á bị kiểm soát đặc biệt. Năm ngoái, cơ quan này từng cho biết, biện pháp xử lý với các ngân hàng kiểm soát đặc biệt gồm tìm kiếm đối tác, đàm phán với các nhà đầu tư có nguyện vọng tham gia cơ cấu lại ngân hàng, đồng thời sắp xếp lại mạng lưới hoạt động, tiết giảm chi phí, triển khai các hoạt động kinh doanh an toàn. Khó khăn lớn nhất khi xử lý các ngân hàng bị mua lại 0 đồng lâu nay là các khoản nợ và lỗ luỹ kế. Chẳng hạn, đến cuối 2019, OceanBank lỗ luỹ kế hơn 17.900 tỷ đồng. Tuy nhiên trong 4 năm gần đây, họ đã liên tục giảm lỗ luỹ kế, năm 2021 cũng là năm lỗ thấp nhất từ 2016 đến nay. Còn CBBank có lỗ luỹ kế hơn 31.000 tỷ đồng đến cuối 2019. Các nhà băng này đều nhận được sự hỗ trợ quản trị, chiến lược từ Vietcombank và VietinBank... sau khi bị mua lại 0 đồng. Phương án cơ cấu lại các ngân hàng yếu kém và SCB, Thủ tướng Phạm Minh Chính lưu ý phải bảo đảm minh bạch, không thất thoát tài sản. Liên quan tới xử lý nợ xấu, theo cơ quan quản lý, tỷ lệ nợ xấu nội bảng đến cuối 2022 ở mức 2%. Tuy nhiên, tỷ lệ này đến cuối tháng 2 năm nay đã tăng lên 2,91%, tăng 0,91% so với cuối 2022 và gần gấp đôi cuối năm 2021 (1,49%). Nợ xấu nội bảng của các ngân hàng được kiểm soát dưới 3%, nhưng theo Ngân hàng Nhà nước, một số khoản nợ chưa phải là nợ xấu nhưng có nguy cơ chuyển nhóm nợ, như các khoản được cơ cấu lại và giữ nguyên nhóm, đầu tư vào trái phiếu doanh nghiệp với mục đích cơ cấu lại nợ hay các khoản phải thu khó đòi, lãi dự thu phải thoái. Nếu tính các khoản nợ tiềm ẩn này và nợ bán cho VAMC chưa xử lý, tổng nợ xấu nội bảng thì nợ xấu của các tổ chức tín dụng đến cuối tháng 2/2023 khoảng 5% tổng dư nợ, theo Ngân hàng Nhà nước. Cơ quan này cho rằng, cần ghi nhận những khoản này để có giải pháp xử lý, ngăn ngừa nguy cơ chuyển nợ xấu trong tương lai. Về xử lý nợ xấu, tháng 2/2023, các tổ chức tín dụng xử lý được 21.300 tỷ đồng nợ xấu, trong đó số xử lý nhờ trích lập dự phòng rủi ro chiếm 41%, còn khách hàng trả nợ chiếm gần 49% tổng nợ xử lý. Bên cạnh xử lý nợ nội bảng, đến cuối tháng 1 năm nay có 416.000 tỷ đồng nợ xấu được xác định và xử lý theo Nghị quyết 42 của Quốc hội. Trong đó, tỷ lệ nợ nội bảng là 211.900 tỷ đồng, tương đương gần 51% tổng nợ xấu đã xử lý. Các khoản nợ đang hạch toán ngoài bảng cân đối kế hoạch là 122.100 tỷ đồng; nợ đã bán cho VAMC được thanh toán bằng trái phiếu đặc biệt là 82.100 tỷ đồng. Đến cuối tháng 1, các tổ chức tín dụng đã sử dụng khoảng 223.500 tỷ đồng dự phòng rủi ro để xử lý các khoản nợ xấu nội bảng xác định theo Nghị quyết 42 và bán cho VAMC thông qua phát hành trái phiếu đặc biệt 40.500 tỷ. \n"
     ]
    }
   ],
   "source": [
    "content = get_content(get_link_by_title(\"Ngân hàng Nhà nước: Sẽ chuyển giao bắt buộc 4 ngân hàng kiểm soát đặc biệt\",url))\n",
    "\n",
    "final = \"\"\n",
    "for line in content:\n",
    "    final += line + \" \"\n",
    "\n",
    "print(final)"
   ]
  },
  {
   "cell_type": "code",
   "execution_count": 72,
   "metadata": {},
   "outputs": [
    {
     "name": "stdout",
     "output_type": "stream",
     "text": [
      "Ngân hàng Nhà nước cho biết đã được phê duyệt chủ trương chuyển giao bắt buộc với CBBank, OceanBank, GPBank và DongABank.\n",
      "Tại báo cáo gửi Uỷ ban Kinh tế của Quốc hội cuối tháng 4, Ngân hàng Nhà nước cho biết, cơ quan này đã trình và được cấp có thẩm quyền phê duyệt chủ trương chuyển giao bắt buộc với 4 ngân hàng được kiểm soát đặc biệt, trong đó có 3 ngân hàng mua bắt buộc (CBBank, OceanBank, GPBank) và Ngân hàng Đông Á.\n",
      "Hiện các nội dung tiếp theo đang được các bên liên quan thực hiện để trình Chính phủ phê duyệt phương án cơ cấu lại các ngân hàng này theo trình tự, thủ tục quy định, theo Ngân hàng Nhà nước.\n",
      "Với Ngân hàng Sài Gòn (SCB) - nhà băng được đặt vào diện kiểm soát đặc biệt từ tháng 10/2022, Ngân hàng Nhà nước cho biết đang thực hiện các thủ tục đánh giá tổng thể thực trạng để có cơ sở xây dựng phương án cơ cấu lại ngân hàng này, báo cáo cấp có thẩm quyền phê duyệt.\n",
      "Nửa năm sau khi bị đưa vào diện kiểm soát đặc biệt, theo cơ quan quản lý, hoạt động của SCB \"trong tầm kiểm soát, dần ổn định\".\n",
      "Trong quá trình cơ cấu hệ thống ngân hàng, 3 nhà băng bị mua lại với giá 0 đồng vào năm 2015, gồm Ngân hàng Xây dựng (CBBank), Ngân hàng Đại Dương (OceanBank) và Ngân hàng Dầu khí Toàn cầu (GP Bank). Cùng năm này, Ngân hàng Đông Á bị kiểm soát đặc biệt.\n",
      "Năm ngoái, cơ quan này từng cho biết, biện pháp xử lý với các ngân hàng kiểm soát đặc biệt gồm tìm kiếm đối tác, đàm phán với các nhà đầu tư có nguyện vọng tham gia cơ cấu lại ngân hàng, đồng thời sắp xếp lại mạng lưới hoạt động, tiết giảm chi phí, triển khai các hoạt động kinh doanh an toàn.\n",
      "Khó khăn lớn nhất khi xử lý các ngân hàng bị mua lại 0 đồng lâu nay là các khoản nợ và lỗ luỹ kế. Chẳng hạn, đến cuối 2019, OceanBank lỗ luỹ kế hơn 17.900 tỷ đồng. Tuy nhiên trong 4 năm gần đây, họ đã liên tục giảm lỗ luỹ kế, năm 2021 cũng là năm lỗ thấp nhất từ 2016 đến nay. Còn CBBank có lỗ luỹ kế hơn 31.000 tỷ đồng đến cuối 2019. Các nhà băng này đều nhận được sự hỗ trợ quản trị, chiến lược từ Vietcombank và VietinBank... sau khi bị mua lại 0 đồng.\n",
      "Phương án cơ cấu lại các ngân hàng yếu kém và SCB, Thủ tướng Phạm Minh Chính lưu ý phải bảo đảm minh bạch, không thất thoát tài sản.\n",
      "Liên quan tới xử lý nợ xấu, theo cơ quan quản lý, tỷ lệ nợ xấu nội bảng đến cuối 2022 ở mức 2%. Tuy nhiên, tỷ lệ này đến cuối tháng 2 năm nay đã tăng lên 2,91%, tăng 0,91% so với cuối 2022 và gần gấp đôi cuối năm 2021 (1,49%).\n",
      "Nợ xấu nội bảng của các ngân hàng được kiểm soát dưới 3%, nhưng theo Ngân hàng Nhà nước, một số khoản nợ chưa phải là nợ xấu nhưng có nguy cơ chuyển nhóm nợ, như các khoản được cơ cấu lại và giữ nguyên nhóm, đầu tư vào trái phiếu doanh nghiệp với mục đích cơ cấu lại nợ hay các khoản phải thu khó đòi, lãi dự thu phải thoái.\n",
      "Nếu tính các khoản nợ tiềm ẩn này và nợ bán cho VAMC chưa xử lý, tổng nợ xấu nội bảng thì nợ xấu của các tổ chức tín dụng đến cuối tháng 2/2023 khoảng 5% tổng dư nợ, theo Ngân hàng Nhà nước. Cơ quan này cho rằng, cần ghi nhận những khoản này để có giải pháp xử lý, ngăn ngừa nguy cơ chuyển nợ xấu trong tương lai.\n",
      "Về xử lý nợ xấu, tháng 2/2023, các tổ chức tín dụng xử lý được 21.300 tỷ đồng nợ xấu, trong đó số xử lý nhờ trích lập dự phòng rủi ro chiếm 41%, còn khách hàng trả nợ chiếm gần 49% tổng nợ xử lý.\n",
      "Bên cạnh xử lý nợ nội bảng, đến cuối tháng 1 năm nay có 416.000 tỷ đồng nợ xấu được xác định và xử lý theo Nghị quyết 42 của Quốc hội. Trong đó, tỷ lệ nợ nội bảng là 211.900 tỷ đồng, tương đương gần 51% tổng nợ xấu đã xử lý.\n",
      "Các khoản nợ đang hạch toán ngoài bảng cân đối kế hoạch là 122.100 tỷ đồng; nợ đã bán cho VAMC được thanh toán bằng trái phiếu đặc biệt là 82.100 tỷ đồng.\n",
      "Đến cuối tháng 1, các tổ chức tín dụng đã sử dụng khoảng 223.500 tỷ đồng dự phòng rủi ro để xử lý các khoản nợ xấu nội bảng xác định theo Nghị quyết 42 và bán cho VAMC thông qua phát hành trái phiếu đặc biệt 40.500 tỷ.\n"
     ]
    }
   ],
   "source": [
    "#thông tin content\n",
    "for line in content:\n",
    "    print(line)"
   ]
  },
  {
   "cell_type": "code",
   "execution_count": 38,
   "metadata": {},
   "outputs": [],
   "source": [
    "#Hàm tóm tắt bằng mô hình gpt3\n",
    "prompt = \"Please summarize and extract the important content in the text in Vietnamese with a summary of no more than 40 words\"  #có thể thực hiện giới hạn từ ở đây\n",
    "def translate_gpt3(text):\n",
    "    response = openai.Completion.create(\n",
    "        engine=model_engine,\n",
    "        prompt=prompt + f\"/n{text}/n/Summary:\",\n",
    "        max_tokens=1024,\n",
    "        n=1,\n",
    "        stop=None,\n",
    "        temperature=0.5,\n",
    "    )\n",
    "    translation = response.choices[0].text.strip()\n",
    "    return translation\n"
   ]
  },
  {
   "cell_type": "code",
   "execution_count": 130,
   "metadata": {},
   "outputs": [],
   "source": [
    "summarization = []\n",
    "for line in content:\n",
    "    summarization.append(translate_gpt3(line))"
   ]
  },
  {
   "cell_type": "code",
   "execution_count": 131,
   "metadata": {},
   "outputs": [
    {
     "name": "stdout",
     "output_type": "stream",
     "text": [
      "Ngân hàng Nhà nước đã được phê duyệt chủ trương chuyển giao bắt buộc với 4 ngân hàng.\n",
      "Ngân hàng Nhà nước được cấp thẩm quyền phê duyệt chủ trương chuyển giao bắt buộc với 4 ngân hàng được kiểm soát đặc biệt.\n",
      "Các bên liên quan đang thực hiện thủ tục để Chính phủ phê duyệt cơ cấu lại các ngân hàng theo quy định.\n",
      "Ngân hàng Nhà nước đang thực hiện thủ tục đánh giá tổng thể thực trạng của SCB để xây dựng phương án cơ cấu lại ngân hàng.\n",
      "Sau nửa năm, hoạt động của SCB dần ổn định trong tầm kiểm soát.\n",
      "3 nhà băng bị mua lại với giá 0 đồng vào năm 2015, bao gồm CBBank, OceanBank và GP Bank. Đông Á cũng bị kiểm soát đặc biệt.\n",
      "Cơ quan đã áp dụng biện pháp xử lý với các ngân hàng kiểm soát đặc biệt bao gồm tìm kiếm đối tác, đàm phán với nhà đầu tư, sắp xếp lại mạng lưới hoạt động và giảm chi phí.\n",
      "Khó khăn lớn nhất khi xử lý các ngân hàng bị mua lại 0 đồng là các khoản nợ và lỗ luỹ kế. Họ đã nhận được sự hỗ trợ từ Vietcombank và VietinBank.\n",
      "Thủ tướng đề xuất cơ cấu lại các ngân hàng yếu kém và SCB, cần bảo đảm minh bạch và không thất thoát tài sản.\n",
      "Tỷ lệ nợ xấu nội bảng tại Việt Nam từ cuối 2022 đến tháng 2 năm nay tăng gần 2 lần, lên 2,91%.\n",
      "Nợ xấu của ngân hàng được giữ dưới 3%, nhưng có nguy cơ chuyển nhóm nợ do các khoản nợ khác.\n",
      "Ngân hàng Nhà nước cho rằng, nợ xấu của các tổ chức tín dụng đến cuối tháng 2/2023 sẽ là khoảng 5% tổng dư nợ, cần ghi nhận những khoản nợ để có giải pháp xử lý.\n",
      "Tháng 2/2023, 21.300 tỷ đồng nợ xấu được xử lý, trích lập dự phòng rủi ro chiếm 41%, khách hàng trả nợ gần 49%.\n",
      "Cuối tháng 1 năm nay, 416.000 tỷ đồng nợ xấu được xác định và xử lý, trong đó 211.900 tỷ đồng là nợ nội bảng gần 51% tổng số.\n",
      "Tổng nợ ngoài bảng cân đối kế hoạch là 122.100 tỷ đồng, trong đó 82.100 tỷ đồng đã được thanh toán bằng trái phiếu đặc biệt.\n",
      "Tổ chức tín dụng đã sử dụng 223.500 tỷ đồng để xử lý khoản nợ xấu và bán cho VAMC thông qua phát hành trái phiếu đặc biệt 40.500 tỷ.\n"
     ]
    }
   ],
   "source": [
    "for line in summarization:\n",
    "    print(line)"
   ]
  },
  {
   "cell_type": "code",
   "execution_count": 132,
   "metadata": {},
   "outputs": [],
   "source": [
    "link_summarization = \"\"\n",
    "for line in summarization:\n",
    "    link_summarization += line + \" \""
   ]
  },
  {
   "cell_type": "code",
   "execution_count": 133,
   "metadata": {},
   "outputs": [
    {
     "name": "stdout",
     "output_type": "stream",
     "text": [
      "Ngân hàng Nhà nước đã được phê duyệt chủ trương chuyển giao bắt buộc với 4 ngân hàng. Ngân hàng Nhà nước được cấp thẩm quyền phê duyệt chủ trương chuyển giao bắt buộc với 4 ngân hàng được kiểm soát đặc biệt. Các bên liên quan đang thực hiện thủ tục để Chính phủ phê duyệt cơ cấu lại các ngân hàng theo quy định. Ngân hàng Nhà nước đang thực hiện thủ tục đánh giá tổng thể thực trạng của SCB để xây dựng phương án cơ cấu lại ngân hàng. Sau nửa năm, hoạt động của SCB dần ổn định trong tầm kiểm soát. 3 nhà băng bị mua lại với giá 0 đồng vào năm 2015, bao gồm CBBank, OceanBank và GP Bank. Đông Á cũng bị kiểm soát đặc biệt. Cơ quan đã áp dụng biện pháp xử lý với các ngân hàng kiểm soát đặc biệt bao gồm tìm kiếm đối tác, đàm phán với nhà đầu tư, sắp xếp lại mạng lưới hoạt động và giảm chi phí. Khó khăn lớn nhất khi xử lý các ngân hàng bị mua lại 0 đồng là các khoản nợ và lỗ luỹ kế. Họ đã nhận được sự hỗ trợ từ Vietcombank và VietinBank. Thủ tướng đề xuất cơ cấu lại các ngân hàng yếu kém và SCB, cần bảo đảm minh bạch và không thất thoát tài sản. Tỷ lệ nợ xấu nội bảng tại Việt Nam từ cuối 2022 đến tháng 2 năm nay tăng gần 2 lần, lên 2,91%. Nợ xấu của ngân hàng được giữ dưới 3%, nhưng có nguy cơ chuyển nhóm nợ do các khoản nợ khác. Ngân hàng Nhà nước cho rằng, nợ xấu của các tổ chức tín dụng đến cuối tháng 2/2023 sẽ là khoảng 5% tổng dư nợ, cần ghi nhận những khoản nợ để có giải pháp xử lý. Tháng 2/2023, 21.300 tỷ đồng nợ xấu được xử lý, trích lập dự phòng rủi ro chiếm 41%, khách hàng trả nợ gần 49%. Cuối tháng 1 năm nay, 416.000 tỷ đồng nợ xấu được xác định và xử lý, trong đó 211.900 tỷ đồng là nợ nội bảng gần 51% tổng số. Tổng nợ ngoài bảng cân đối kế hoạch là 122.100 tỷ đồng, trong đó 82.100 tỷ đồng đã được thanh toán bằng trái phiếu đặc biệt. Tổ chức tín dụng đã sử dụng 223.500 tỷ đồng để xử lý khoản nợ xấu và bán cho VAMC thông qua phát hành trái phiếu đặc biệt 40.500 tỷ. \n"
     ]
    }
   ],
   "source": [
    "print(link_summarization)"
   ]
  },
  {
   "cell_type": "code",
   "execution_count": 4,
   "metadata": {},
   "outputs": [],
   "source": [
    "source = \"Ngân hàng Nhà nước cho biết đã được phê duyệt chủ trương chuyển giao bắt buộc với CBBank, OceanBank, GPBank và DongABank. Tại báo cáo gửi Uỷ ban Kinh tế của Quốc hội cuối tháng 4, Ngân hàng Nhà nước cho biết, cơ quan này đã trình và được cấp có thẩm quyền phê duyệt chủ trương chuyển giao bắt buộc với 4 ngân hàng được kiểm soát đặc biệt, trong đó có 3 ngân hàng mua bắt buộc (CBBank, OceanBank, GPBank) và Ngân hàng Đông Á. Hiện các nội dung tiếp theo đang được các bên liên quan thực hiện để trình Chính phủ phê duyệt phương án cơ cấu lại các ngân hàng này theo trình tự, thủ tục quy định, theo Ngân hàng Nhà nước. Với Ngân hàng Sài Gòn (SCB) - nhà băng được đặt vào diện kiểm soát đặc biệt từ tháng 10/2022, Ngân hàng Nhà nước cho biết đang thực hiện các thủ tục đánh giá tổng thể thực trạng để có cơ sở xây dựng phương án cơ cấu lại ngân hàng này, báo cáo cấp có thẩm quyền phê duyệt. Nửa năm sau khi bị đưa vào diện kiểm soát đặc biệt, theo cơ quan quản lý, hoạt động của SCB trong tầm kiểm soát, dần ổn định. Trong quá trình cơ cấu hệ thống ngân hàng, 3 nhà băng bị mua lại với giá 0 đồng vào năm 2015, gồm Ngân hàng Xây dựng (CBBank), Ngân hàng Đại Dương (OceanBank) và Ngân hàng Dầu khí Toàn cầu (GP Bank). Cùng năm này, Ngân hàng Đông Á bị kiểm soát đặc biệt. Năm ngoái, cơ quan này từng cho biết, biện pháp xử lý với các ngân hàng kiểm soát đặc biệt gồm tìm kiếm đối tác, đàm phán với các nhà đầu tư có nguyện vọng tham gia cơ cấu lại ngân hàng, đồng thời sắp xếp lại mạng lưới hoạt động, tiết giảm chi phí, triển khai các hoạt động kinh doanh an toàn. Khó khăn lớn nhất khi xử lý các ngân hàng bị mua lại 0 đồng lâu nay là các khoản nợ và lỗ luỹ kế. Chẳng hạn, đến cuối 2019, OceanBank lỗ luỹ kế hơn 17.900 tỷ đồng. Tuy nhiên trong 4 năm gần đây, họ đã liên tục giảm lỗ luỹ kế, năm 2021 cũng là năm lỗ thấp nhất từ 2016 đến nay. Còn CBBank có lỗ luỹ kế hơn 31.000 tỷ đồng đến cuối 2019. Các nhà băng này đều nhận được sự hỗ trợ quản trị, chiến lược từ Vietcombank và VietinBank... sau khi bị mua lại 0 đồng. Phương án cơ cấu lại các ngân hàng yếu kém và SCB, Thủ tướng Phạm Minh Chính lưu ý phải bảo đảm minh bạch, không thất thoát tài sản. Liên quan tới xử lý nợ xấu, theo cơ quan quản lý, tỷ lệ nợ xấu nội bảng đến cuối 2022 ở mức 2%. Tuy nhiên, tỷ lệ này đến cuối tháng 2 năm nay đã tăng lên 2,91%, tăng 0,91% so với cuối 2022 và gần gấp đôi cuối năm 2021 (1,49%). Nợ xấu nội bảng của các ngân hàng được kiểm soát dưới 3%, nhưng theo Ngân hàng Nhà nước, một số khoản nợ chưa phải là nợ xấu nhưng có nguy cơ chuyển nhóm nợ, như các khoản được cơ cấu lại và giữ nguyên nhóm, đầu tư vào trái phiếu doanh nghiệp với mục đích cơ cấu lại nợ hay các khoản phải thu khó đòi, lãi dự thu phải thoái. Nếu tính các khoản nợ tiềm ẩn này và nợ bán cho VAMC chưa xử lý, tổng nợ xấu nội bảng thì nợ xấu của các tổ chức tín dụng đến cuối tháng 2/2023 khoảng 5% tổng dư nợ, theo Ngân hàng Nhà nước. Cơ quan này cho rằng, cần ghi nhận những khoản này để có giải pháp xử lý, ngăn ngừa nguy cơ chuyển nợ xấu trong tương lai. Về xử lý nợ xấu, tháng 2/2023, các tổ chức tín dụng xử lý được 21.300 tỷ đồng nợ xấu, trong đó số xử lý nhờ trích lập dự phòng rủi ro chiếm 41%, còn khách hàng trả nợ chiếm gần 49% tổng nợ xử lý. Bên cạnh xử lý nợ nội bảng, đến cuối tháng 1 năm nay có 416.000 tỷ đồng nợ xấu được xác định và xử lý theo Nghị quyết 42 của Quốc hội. Trong đó, tỷ lệ nợ nội bảng là 211.900 tỷ đồng, tương đương gần 51% tổng nợ xấu đã xử lý. Các khoản nợ đang hạch toán ngoài bảng cân đối kế hoạch là 122.100 tỷ đồng; nợ đã bán cho VAMC được thanh toán bằng trái phiếu đặc biệt là 82.100 tỷ đồng. Đến cuối tháng 1, các tổ chức tín dụng đã sử dụng khoảng 223.500 tỷ đồng dự phòng rủi ro để xử lý các khoản nợ xấu nội bảng xác định theo Nghị quyết 42 và bán cho VAMC thông qua phát hành trái phiếu đặc biệt 40.500 tỷ. \""
   ]
  },
  {
   "cell_type": "code",
   "execution_count": 5,
   "metadata": {},
   "outputs": [],
   "source": [
    "result_1 =\"Ngân hàng Nhà nước đã được phê duyệt chủ trương chuyển giao bắt buộc với CBBank, OceanBank, GPBank và DongABank. Ngân hàng Nhà nước đã được cấp thẩm quyền phê duyệt chủ trương chuyển giao bắt buộc với 4 ngân hàng được kiểm soát đặc biệt, trong đó có 3 ngân hàng mua bắt buộc (CBBank, OceanBank, GPBank) và Ngân hàng Đông Á. Các bên liên quan đang thực hiện các nội dung để trình Chính phủ phê duyệt phương án cơ cấu lại các ngân hàng theo trình tự, thủ tục quy định của Ngân hàng Nhà nước. Ngân hàng Nhà nước đang thực hiện các thủ tục đánh giá tổng thể thực trạng của Ngân hàng Sài Gòn để xây dựng phương án cơ cấu lại và báo cáo cấp có thẩm quyền phê duyệt. SCB's activities have stabilized in the special control range over the past five years, according to the management agency. Năm 2015, 3 nhà băng đã bị mua lại với giá 0 đồng bao gồm CBBank, OceanBank và GP Bank. Cùng năm này, Ngân hàng Đông Á cũng bị kiểm soát đặc biệt. Cơ quan này đã xác định biện pháp xử lý với các ngân hàng kiểm soát đặc biệt bao gồm tìm kiếm đối tác, đàm phán với nhà đầu tư, sắp xếp lại mạng lưới hoạt động, tiết giảm chi phí và triển khai các hoạt động kinh doanh an toàn. Ngân hàng bị mua lại 0 đồng đã gặp khó khăn lớn nhất về việc xử lý các khoản nợ và lỗ luỹ kế. OceanBank và CBBank đều đã nhận được sự hỗ trợ quản trị và chiến lược từ Vietcombank và VietinBank. Phụng án của Thủ tướng Phạm Minh Chính về cơ cấu lại các ngân hàng yếu kém và SCB đòi hỏi phải đảm bảo minh bạch và tránh thất thoát tài sản. Tỷ lệ nợ xấu nội bảng dự kiến sẽ đạt 2% vào cuối năm 2022, nhưng tỷ lệ này đã tăng lên 2,91% đến cuối tháng 2 năm nay, gần gấp đôi so với cuối năm 2021. Ngân hàng Nhà nước đã kiểm soát tỷ lệ nợ xấu nội bảng của các ngân hàng dưới 3%, nhưng có một số khoản nợ có thể chuyển nhóm nợ, bao gồm các khoản được cơ cấu lại và giữ nguyên nhóm, đầu tư vào trái phiếu doanh nghiệp, cơ cấu lại nợ và lãi dự thu phải thoái. Nợ xấu của các tổ chức tín dụng đến cuối tháng 2/2023 sẽ khoảng 5% tổng dư nợ theo Ngân hàng Nhà nước. Cần ghi nhận những khoản nợ tiềm ẩn và nợ bán cho VAMC chưa xử lý để có giải pháp xử lý, ngăn ngừa nguy cơ chuyển nợ xấu trong tương lai. Tháng 2/2023, các tổ chức tín dụng xử lý được 21.300 tỷ đồng nợ xấu, trong đó số xử lý nhờ trích lập dự phòng rủi ro chiếm 41%, còn khách hàng trả nợ chiếm gần 49% tổng nợ xử lý. Cuối tháng 1/2021, 416.000 tỷ đồng nợ xấu đã được xác định và xử lý theo Nghị quyết 42 của Quốc hội, trong đó 211.900 tỷ đồng là nợ nội bảng, tương đương gần 51% tổng nợ xấu đã xử lý. 122.1 trillion VND of debt have been accounted for outside the balance sheet, while 82.1 trillion VND of debt have been paid off with special bonds to VAMC. Đến cuối tháng 1, các tổ chức tín dụng đã sử dụng 223.500 tỷ đồng để xử lý các khoản nợ xấu theo Nghị quyết 42 và bán cho VAMC thông qua phát hành trái phiếu đặc biệt 40.500 tỷ.\""
   ]
  },
  {
   "cell_type": "code",
   "execution_count": 6,
   "metadata": {},
   "outputs": [],
   "source": [
    "result_2 = \"Ngân hàng Nhà nước đã phê duyệt chủ trương chuyển giao bắt buộc với 4 ngân hàng là CBBank, OceanBank, GPBank và DongABank. Ngân hàng Nhà nước đã được cấp thẩm quyền phê duyệt chủ trương chuyển giao bắt buộc với 4 ngân hàng được kiểm soát đặc biệt. Các bên liên quan đang thực hiện các nội dung để trình Chính phủ phê duyệt cơ cấu lại ngân hàng theo quy định. Ngân hàng Sài Gòn được đặt vào diện kiểm soát đặc biệt, Ngân hàng Nhà nước đang thực hiện thủ tục đánh giá tổng thể để có cơ sở xây dựng phương án cơ cấu lại. Sau nửa năm diện kiểm soát đặc biệt, hoạt động của SCB đã ổn định hơn. Năm 2015, 3 nhà băng bị mua lại với giá 0 đồng bao gồm CBBank, OceanBank và GP Bank; cùng năm, Ngân hàng Đông Á bị kiểm soát đặc biệt. Cơ quan đã đưa ra các biện pháp xử lý đối với các ngân hàng kiểm soát đặc biệt, bao gồm tìm kiếm đối tác, đàm phán với các nhà đầu tư, sắp xếp lại mạng lưới hoạt động và tiết giảm chi phí. Khó khăn lớn nhất khi xử lý các ngân hàng bị mua lại 0 đồng là các khoản nợ và lỗ luỹ kế. CBBank và OceanBank đã nhận được sự hỗ trợ quản trị, chiến lược từ Vietcombank và VietinBank. Thủ tướng Phạm Minh Chính cảnh báo phải bảo đảm minh bạch trong cơ cấu lại các ngân hàng yếu kém và SCB. Tỷ lệ nợ xấu nội bảng đến cuối 2022 dự kiến ở mức 2%, nhưng đến tháng 2/2021 đã lên 2,91%, gần gấp đôi so với cuối 2021. Nợ xấu nội bảng của các ngân hàng được quản lý dưới 3%, nhưng có một số khoản nợ có nguy cơ chuyển nhóm nợ. Tổng nợ xấu của các tổ chức tín dụng đến cuối tháng 2/2023 khoảng 5% tổng dư nợ, theo Ngân hàng Nhà nước. Cần ghi nhận những khoản nợ để có giải pháp xử lý, ngăn ngừa nguy cơ chuyển nợ xấu. Tháng 2/2023, tổ chức tín dụng xử lý 21.300 tỷ đồng nợ xấu, trong đó trích lập dự phòng rủi ro chiếm 41%, khách hàng trả nợ chiếm gần 49%. Xử lý nợ nội bảng đến cuối tháng 1 năm nay có 416.000 tỷ đồng, trong đó 211.900 tỷ đồng là nợ nội bảng, tương đương gần 51% tổng số nợ xấu đã xử lý. Tổng khoản nợ hạch toán ngoài bảng cân đối kế hoạch là 122.100 tỷ đồng, trong đó 82.100 tỷ đồng đã được thanh toán bằng trái phiếu đặc biệt. Các tổ chức tín dụng sử dụng 223,5 tỷ đồng dự phòng rủi ro, bán cho VAMC thông qua phát hành trái phiếu đặc biệt 40,5 tỷ.\""
   ]
  },
  {
   "cell_type": "code",
   "execution_count": 7,
   "metadata": {},
   "outputs": [],
   "source": [
    "result_3 = \"Ngân hàng Nhà nước đã được phê duyệt chủ trương chuyển giao bắt buộc với 4 ngân hàng. Ngân hàng Nhà nước được cấp thẩm quyền phê duyệt chủ trương chuyển giao bắt buộc với 4 ngân hàng được kiểm soát đặc biệt. Các bên liên quan đang thực hiện thủ tục để Chính phủ phê duyệt cơ cấu lại các ngân hàng theo quy định. Ngân hàng Nhà nước đang thực hiện thủ tục đánh giá tổng thể thực trạng của SCB để xây dựng phương án cơ cấu lại ngân hàng. Sau nửa năm, hoạt động của SCB dần ổn định trong tầm kiểm soát. 3 nhà băng bị mua lại với giá 0 đồng vào năm 2015, bao gồm CBBank, OceanBank và GP Bank. Đông Á cũng bị kiểm soát đặc biệt. Cơ quan đã áp dụng biện pháp xử lý với các ngân hàng kiểm soát đặc biệt bao gồm tìm kiếm đối tác, đàm phán với nhà đầu tư, sắp xếp lại mạng lưới hoạt động và giảm chi phí. Khó khăn lớn nhất khi xử lý các ngân hàng bị mua lại 0 đồng là các khoản nợ và lỗ luỹ kế. Họ đã nhận được sự hỗ trợ từ Vietcombank và VietinBank. Thủ tướng đề xuất cơ cấu lại các ngân hàng yếu kém và SCB, cần bảo đảm minh bạch và không thất thoát tài sản. Tỷ lệ nợ xấu nội bảng tại Việt Nam từ cuối 2022 đến tháng 2 năm nay tăng gần 2 lần, lên 2,91%. Nợ xấu của ngân hàng được giữ dưới 3%, nhưng có nguy cơ chuyển nhóm nợ do các khoản nợ khác. Ngân hàng Nhà nước cho rằng, nợ xấu của các tổ chức tín dụng đến cuối tháng 2/2023 sẽ là khoảng 5% tổng dư nợ, cần ghi nhận những khoản nợ để có giải pháp xử lý. Tháng 2/2023, 21.300 tỷ đồng nợ xấu được xử lý, trích lập dự phòng rủi ro chiếm 41%, khách hàng trả nợ gần 49%. Cuối tháng 1 năm nay, 416.000 tỷ đồng nợ xấu được xác định và xử lý, trong đó 211.900 tỷ đồng là nợ nội bảng gần 51% tổng số. Tổng nợ ngoài bảng cân đối kế hoạch là 122.100 tỷ đồng, trong đó 82.100 tỷ đồng đã được thanh toán bằng trái phiếu đặc biệt. Tổ chức tín dụng đã sử dụng 223.500 tỷ đồng để xử lý khoản nợ xấu và bán cho VAMC thông qua phát hành trái phiếu đặc biệt 40.500 tỷ. \""
   ]
  },
  {
   "cell_type": "code",
   "execution_count": 8,
   "metadata": {},
   "outputs": [],
   "source": [
    "def evaluate_summary(text1, text2):\n",
    "    rouge = Rouge()\n",
    "    scores = rouge.get_scores(text1, text2)\n",
    "    rouge_1_score = scores[0]['rouge-1']['f']\n",
    "    return rouge_1_score"
   ]
  },
  {
   "cell_type": "code",
   "execution_count": 163,
   "metadata": {},
   "outputs": [
    {
     "name": "stdout",
     "output_type": "stream",
     "text": [
      "without limit words 0.747058818560943\n",
      "litmit 40 words 0.7399030646394599\n",
      "limit 30 words 0.6953642336422197\n"
     ]
    }
   ],
   "source": [
    "score_1  = evaluate_summary(source,result_1)\n",
    "print(\"without limit words\",score_1)\n",
    "\n",
    "score_2  = evaluate_summary(source,result_2)\n",
    "print(\"litmit 40 words\",score_2)\n",
    "\n",
    "score_3  = evaluate_summary(source,result_3)\n",
    "print(\"limit 30 words\",score_3)"
   ]
  },
  {
   "cell_type": "code",
   "execution_count": 3,
   "metadata": {},
   "outputs": [],
   "source": [
    "from transformers import pipeline\n",
    "translator_English = pipeline(\"translation_vi_to_en\", model=\"facebook/m2m100_418M\")\n",
    "translator_Vietnamese = pipeline(\"translation_en_to_vi\", model=\"facebook/m2m100_418M\")\n"
   ]
  },
  {
   "cell_type": "code",
   "execution_count": 29,
   "metadata": {},
   "outputs": [],
   "source": [
    "content = get_content(get_link_by_title(\"Ngân hàng Nhà nước: Sẽ chuyển giao bắt buộc 4 ngân hàng kiểm soát đặc biệt\",url))\n",
    "\n",
    "en_content = []\n",
    "for line in content:\n",
    "    en_content.append(translator_English(line)) \n"
   ]
  },
  {
   "cell_type": "code",
   "execution_count": 30,
   "metadata": {},
   "outputs": [],
   "source": [
    "en_content_fix = []\n",
    "for line in en_content:\n",
    "    en_content_fix.append(line[0]['translation_text'])\n"
   ]
  },
  {
   "cell_type": "code",
   "execution_count": 31,
   "metadata": {},
   "outputs": [
    {
     "name": "stdout",
     "output_type": "stream",
     "text": [
      "The State Bank said it has been approved for a mandatory transfer to CBBank, OceanBank, GPBank and DongABank.\n",
      "In a report sent to the Economic Committee of the Congress at the end of April, the State Bank said that the agency had submitted and was granted authorized to approve the proposal for mandatory transfer to four special-controlled banks, including three mandatory purchasing banks (CBBank, OceanBank, GPBank) and the Bank of East Asia.\n",
      "Currently the subsequent contents are being made by the relevant parties to submit the Government to approve the restructuring options of these banks according to the order, the procedure regulated, according to the State Bank.\n",
      "With the Saigon Bank (SCB) - the bank is placed in the special control area from October/2022, the State Bank said it is carrying out the general assessment procedures to have the basis for the construction of the restructuring option of the bank, the report issued by the competent authorities approved.\n",
      "Half years after being put into the special control area, according to the regulatory body, SCB’s operations “in control, gradually stable”.\n",
      "During the structure of the banking system, three banks were purchased at a price of 0 dollars in 2015, including the Construction Bank (CBBank), the Ocean Bank (OceanBank) and the Global Oil and Gas Bank (GP Bank).\n",
      "Last year, the agency said, measures to deal with special-control banks include finding partners, negotiating with investors willing to participate in bank restructuring, while reorganizing the operating network, reducing costs, and deploying secure business activities.\n",
      "For example, by the end of 2019, OceanBank lost more than 17,900 billion dollars. However, in the last 4 years, they have continuously reduced the loss, the year 2021 is also the lowest year since 2016 until now. And CBBank has lost more than 31,000 billion dollars until the end of 2019. These banks all received administrative, strategic support from Vietcombank and VietinBank... after being purchased 0 dollars.\n",
      "The restructuring method of the weak banks and SCB, Prime Minister Phạm Minh Chính noted to ensure transparency, not loss of assets.\n",
      "In terms of bad debt handling, according to the regulatory authority, the rate of bad internal debt by the end of 2022 was 2%. However, this rate by the end of February this year increased to 2.91%, a 0.91% increase compared to the end of 2022 and almost doubled by the end of 2021 (1,49%).\n",
      "The internal bad debt of the banks is controlled below 3%, but according to the State Bank, some debts are not bad debt but are at risk of transferring debt groups, such as restructuring and holding the same group, investing in corporate bonds for the purpose of restructuring debt or hard-to-refunded, profits to decline.\n",
      "If these potential debts are calculated and the VAMC’s sale debt is not processed, the total bad debt within the table then the bad debt of credit institutions by the end of February 2023 is about 5% of the total debt balance, according to the State Bank. The agency believes that these amounts need to be recorded in order to have a processing solution, preventing the risk of bad debt transfer in the future.\n",
      "As for bad debt processing, in February 2023, credit institutions processed 21.300 billion dollars of bad debt, of which the number of processing thanks to the establishment of risk reserves accounted for 41%, while customers paying debt accounted for 49% of the total debt processing.\n",
      "In addition to the internal debt processing, by the end of January this year there were 416.000 billion yuan bad debt identified and processed according to Parliament's 42th Resolution. In which, the internal debt ratio was 211.900 billion yuan, equivalent to 51% of the total bad debt processed.\n",
      "The debt that is being accounted out of the plan balance sheet is 122.100 billion yuan; the debt sold to VAMC is paid with special bonds of 82.100 billion yuan.\n",
      "By the end of January, credit institutions used approximately 223.500 billion risks reserve to deal with bad internal debt defined under Resolution 42 and sold to VAMC through the issuance of special bonds of 40.500 billion.\n"
     ]
    }
   ],
   "source": [
    "for line in en_content_fix:\n",
    "    print(line)"
   ]
  },
  {
   "cell_type": "code",
   "execution_count": 32,
   "metadata": {},
   "outputs": [],
   "source": [
    "vi_content = []\n",
    "for line in en_content_fix:\n",
    "    vi_content.append(translator_Vietnamese(line)) \n"
   ]
  },
  {
   "cell_type": "code",
   "execution_count": 33,
   "metadata": {},
   "outputs": [],
   "source": [
    "vi_content_fix = []\n",
    "for line in vi_content:\n",
    "    vi_content_fix.append(line[0]['translation_text'])"
   ]
  },
  {
   "cell_type": "code",
   "execution_count": 35,
   "metadata": {},
   "outputs": [
    {
     "name": "stdout",
     "output_type": "stream",
     "text": [
      "Ngân hàng Nhà nước cho biết đã được phê duyệt cho việc chuyển giao bắt buộc đến CBBank, OceanBank, GPBank và DongABank.\n",
      "Trong một báo cáo gửi đến Ủy ban Kinh tế Quốc hội vào cuối tháng 4, Ngân hàng Nhà nước cho biết cơ quan này đã gửi và được ủy quyền phê duyệt đề xuất chuyển giao bắt buộc đến bốn ngân hàng được kiểm soát đặc biệt, bao gồm ba ngân hàng mua sắm bắt buộc (CBBank, OceanBank, GPBank) và Ngân hàng Đông Á.\n",
      "Hiện nay các nội dung tiếp theo đang được thực hiện bởi các bên liên quan để gửi cho Chính phủ để phê duyệt các tùy chọn tái cấu trúc của các ngân hàng này theo lệnh, thủ tục được quy định, theo Ngân hàng Nhà nước.\n",
      "Với Ngân hàng Saigon (SCB) - ngân hàng được đặt trong khu vực kiểm soát đặc biệt từ tháng 10/2022, Ngân hàng Nhà nước nói rằng nó đang thực hiện các thủ tục đánh giá chung để có cơ sở cho việc xây dựng tùy chọn tái cấu trúc của ngân hàng, báo cáo được cấp bởi các cơ quan có thẩm quyền phê duyệt.\n",
      "Một nửa năm sau khi được đưa vào khu vực kiểm soát đặc biệt, theo cơ quan quản lý, hoạt động của SCB “trong kiểm soát, dần dần ổn định”.\n",
      "Trong quá trình xây dựng hệ thống ngân hàng, ba ngân hàng đã được mua lại với giá 0 đô la vào năm 2015, bao gồm Ngân hàng Xây dựng (CBBank), Ngân hàng Ocean (OceanBank) và Ngân hàng dầu khí toàn cầu (GP Bank).\n",
      "Năm ngoái, cơ quan cho biết, các biện pháp đối phó với các ngân hàng kiểm soát đặc biệt bao gồm tìm đối tác, đàm phán với các nhà đầu tư sẵn sàng tham gia vào việc tái cấu trúc ngân hàng, đồng thời tổ chức lại mạng lưới hoạt động, giảm chi phí và triển khai các hoạt động kinh doanh an toàn.\n",
      "Ví dụ, vào cuối năm 2019, OceanBank đã mất hơn 17.900 tỷ USD. tuy nhiên, trong 4 năm qua, họ đã liên tục giảm thiệt hại, năm 2021 cũng là năm thấp nhất kể từ năm 2016 cho đến nay. và CBBank đã mất hơn 31.000 tỷ USD cho đến cuối năm 2019.\n",
      "Phương pháp tái cấu trúc của các ngân hàng yếu và SCB, Thủ tướng Phạm Minh Chính lưu ý đảm bảo minh bạch, chứ không phải mất tài sản.\n",
      "Về việc xử lý nợ tệ, theo cơ quan quản lý, tỷ lệ nợ tệ vào cuối năm 2022 là 2%. tuy nhiên, tỷ lệ này vào cuối tháng 2 năm nay tăng lên 2,91%, tăng 0,91% so với cuối năm 2022 và gần như tăng gấp đôi vào cuối năm 2021 (1,49%).\n",
      "Mức nợ xấu bên trong của các ngân hàng được kiểm soát dưới 3%, nhưng theo Ngân hàng Nhà nước, một số nợ không phải là nợ xấu nhưng có nguy cơ chuyển các nhóm nợ, chẳng hạn như tái cấu trúc và nắm giữ cùng một nhóm, đầu tư vào trái phiếu công ty với mục đích tái cấu trúc nợ hoặc khó trả lại, lợi nhuận giảm.\n",
      "Nếu những khoản nợ tiềm năng này được tính toán và khoản nợ bán hàng của VAMC không được xử lý, tổng khoản nợ xấu trong bảng thì khoản nợ xấu của các tổ chức tín dụng vào cuối tháng 2 năm 2023 là khoảng 5% tổng khoản nợ, theo Ngân hàng Nhà nước. Cơ quan tin rằng số tiền này cần được ghi lại để có một giải pháp xử lý, ngăn chặn rủi ro chuyển khoản nợ xấu trong tương lai.\n",
      "Về việc xử lý nợ tệ, vào tháng 2 năm 2023, các tổ chức tín dụng đã xử lý 21.300 tỷ USD nợ tệ, trong đó số lượng xử lý nhờ thiết lập dự trữ rủi ro chiếm 41%, trong khi khách hàng trả nợ chiếm 49% tổng xử lý nợ.\n",
      "Ngoài việc xử lý nợ nội bộ, vào cuối tháng 1 năm nay đã có 416.000 tỷ yuan nợ xấu được xác định và xử lý theo Nghị quyết 42 của Quốc hội. trong đó, tỷ lệ nợ nội bộ là 211.900 tỷ yuan, tương đương với 51% tổng nợ xấu được xử lý.\n",
      "Mức nợ được tính từ bảng cân bằng kế hoạch là 122.100 tỷ yuan; nợ được bán cho VAMC được trả bằng các khoản nợ đặc biệt trị giá 82.100 tỷ yuan.\n",
      "Đến cuối tháng 1, các tổ chức tín dụng đã sử dụng khoảng 223.500 tỷ dự trữ rủi ro để đối phó với nợ nội bộ tồi tệ được xác định theo Quyết định 42 và được bán cho VAMC thông qua việc phát hành trái phiếu đặc biệt trị giá 40.500 tỷ.\n"
     ]
    }
   ],
   "source": [
    "for line in vi_content_fix:\n",
    "    print(line)"
   ]
  },
  {
   "cell_type": "code",
   "execution_count": 36,
   "metadata": {},
   "outputs": [],
   "source": [
    "link_vi_content_fix = \"\"\n",
    "for line in vi_content_fix:\n",
    "    link_vi_content_fix += line + ' '"
   ]
  },
  {
   "cell_type": "code",
   "execution_count": 37,
   "metadata": {},
   "outputs": [
    {
     "name": "stdout",
     "output_type": "stream",
     "text": [
      "0.7722222172241127\n"
     ]
    }
   ],
   "source": [
    "score_vi_en  = evaluate_summary(source,link_vi_content_fix)\n",
    "print(score_vi_en)"
   ]
  },
  {
   "cell_type": "code",
   "execution_count": 39,
   "metadata": {},
   "outputs": [],
   "source": [
    "summary_en = []\n",
    "for line in en_content_fix:\n",
    "    summary_en.append(translate_gpt3(line))"
   ]
  },
  {
   "cell_type": "code",
   "execution_count": 40,
   "metadata": {},
   "outputs": [],
   "source": [
    "summary_vi = []\n",
    "for line in summary_en:\n",
    "    summary_vi.append(translator_Vietnamese(line)[0]['translation_text'])\n"
   ]
  },
  {
   "cell_type": "code",
   "execution_count": 41,
   "metadata": {},
   "outputs": [
    {
     "name": "stdout",
     "output_type": "stream",
     "text": [
      "Ngân hàng Nhà nước đã được phê duyệt chuyển khoản bắt buộc đến CBBank, OceanBank, GPBank và DongABank.\n",
      "Bộ Ngân hàng đã gửi báo cáo đến Hội đồng Kinh tế vào cuối tháng 4 và được phép phê duyệt đề xuất chuyển giao bắt buộc cho bốn ngân hàng được kiểm soát đặc biệt, bao gồm ba ngân hàng mua bắt buộc (CBBank, OceanBank, GPBank) và Ngân hàng Đông Á.\n",
      "Các bên liên quan đang thực hiện các nội dung liên quan để gửi cho Chính phủ phê duyệt các tùy chọn tái cấu trúc của các ngân hàng theo thứ tự, quy định quy trình của Ngân hàng Nhà nước.\n",
      "Ngân hàng Saigon (SCB) được đặt trong khu vực kiểm soát đặc biệt từ tháng 10/2022, Ngân hàng Nhà nước đang thực hiện các thủ tục đánh giá chung để có cơ sở xây dựng lựa chọn cải cách.\n",
      "Sau nửa năm được đặt vào khu vực kiểm soát đặc biệt, theo cơ quan quản lý, hoạt động của SCB đã \"đã kiểm soát, dần dần ổn định\".\n",
      "Năm 2015, ba ngân hàng bao gồm Ngân hàng Xây dựng (CBBank), Ngân hàng Biển (OceanBank) và Ngân hàng dầu khí toàn cầu (GP Bank) được mua lại với giá 0 đồng.\n",
      "Năm ngoái, cơ quan này nói rằng, các biện pháp để đối phó với kiểm soát ngân hàng đặc biệt bao gồm tìm đối tác, đàm phán với các nhà đầu tư sẵn sàng tham gia tái cấu trúc ngân hàng, cùng với tổ chức lại hoạt động mạng, giảm chi phí, và triển khai hoạt động kinh doanh an toàn.\n",
      "OceanBank đã mất hơn 17.900 tỷ đồng vào cuối năm 2019 nhưng đã giảm liên tục trong 4 năm qua.CBBank đã mất hơn 31.000 tỷ đồng vào cuối năm 2019 và được hỗ trợ bởi quản lý, chiến lược từ Vietcombank và Vietinbank.\n",
      "Chính Phạm Minh đề xuất phương pháp tái cấu trúc các ngân hàng yếu và SCB nhằm đảm bảo độ bền và không mất tài sản.\n",
      "Theo cơ quan quản lý, tỷ lệ nợ xấu nội bộ đến cuối năm 2022 là 2%. tuy nhiên, đến cuối tháng 2 năm nay, tỷ lệ nợ xấu đã tăng lên 2,91%, tăng 0,91% so với cuối năm 2022 và gần gấp đôi so với cuối năm 2021 (1,49%).\n",
      "Ngân hàng đã giữ tỷ lệ nợ xấu bên trong dưới 3%, nhưng theo Ngân hàng Nhà nước, một số nợ có thể chuyển sang nhóm nợ nguy hiểm, chẳng hạn như đổi mới và giữ nhóm, đầu tư vào cổ phiếu doanh nghiệp để đổi mới nợ hoặc khó trả lại, lợi nhuận giảm.\n",
      "Ngân hàng Nhà nước cho rằng, nợ có thể được tính và nợ bán hàng của VAMC không được xử lý, tổng nợ xấu của ngân hàng trong bảng kết thúc tháng 2 năm 2023 sẽ là khoảng 5% tổng nợ.\n",
      "Trong tháng 2 năm 2023, ngân hàng xử lý nợ xấu tổng cộng 21.300 tỷ USD, trong đó 41% đặt rủi ro dự phòng, 49% thanh toán cho khách hàng.\n",
      "Trước cuối tháng 1 năm nay, theo Quyết định số 42 của Quốc hội, đã phát hiện và xử lý nợ xấu 416.000 tỷ đồng, trong đó tỷ lệ nợ nội bộ là 211.900 tỷ đồng, tương đương 51% tổng nợ xấu đã xử lý.\n",
      "Tổng nợ trên bảng cân bằng kế toán là 122.100 tỷ đồng, trong đó 82.100 tỷ đồng được thanh toán bằng các loại trái phiếu đặc biệt của VAMC.\n",
      "Đến cuối tháng 1, các tổ chức tín dụng đã sử dụng tổng cộng 223,5 tỷ đồng để đối phó với nợ nội bộ không tốt theo Quyết định số 42 và bán cho VAMC qua phát hành cổ phiếu đặc biệt 40,5 tỷ đồng.\n"
     ]
    }
   ],
   "source": [
    "for line in summary_vi:\n",
    "    print(line)"
   ]
  },
  {
   "cell_type": "code",
   "execution_count": 42,
   "metadata": {},
   "outputs": [
    {
     "name": "stdout",
     "output_type": "stream",
     "text": [
      "Ngân hàng Nhà nước đã được phê duyệt chuyển khoản bắt buộc đến CBBank, OceanBank, GPBank và DongABank. Bộ Ngân hàng đã gửi báo cáo đến Hội đồng Kinh tế vào cuối tháng 4 và được phép phê duyệt đề xuất chuyển giao bắt buộc cho bốn ngân hàng được kiểm soát đặc biệt, bao gồm ba ngân hàng mua bắt buộc (CBBank, OceanBank, GPBank) và Ngân hàng Đông Á. Các bên liên quan đang thực hiện các nội dung liên quan để gửi cho Chính phủ phê duyệt các tùy chọn tái cấu trúc của các ngân hàng theo thứ tự, quy định quy trình của Ngân hàng Nhà nước. Ngân hàng Saigon (SCB) được đặt trong khu vực kiểm soát đặc biệt từ tháng 10/2022, Ngân hàng Nhà nước đang thực hiện các thủ tục đánh giá chung để có cơ sở xây dựng lựa chọn cải cách. Sau nửa năm được đặt vào khu vực kiểm soát đặc biệt, theo cơ quan quản lý, hoạt động của SCB đã \"đã kiểm soát, dần dần ổn định\". Năm 2015, ba ngân hàng bao gồm Ngân hàng Xây dựng (CBBank), Ngân hàng Biển (OceanBank) và Ngân hàng dầu khí toàn cầu (GP Bank) được mua lại với giá 0 đồng. Năm ngoái, cơ quan này nói rằng, các biện pháp để đối phó với kiểm soát ngân hàng đặc biệt bao gồm tìm đối tác, đàm phán với các nhà đầu tư sẵn sàng tham gia tái cấu trúc ngân hàng, cùng với tổ chức lại hoạt động mạng, giảm chi phí, và triển khai hoạt động kinh doanh an toàn. OceanBank đã mất hơn 17.900 tỷ đồng vào cuối năm 2019 nhưng đã giảm liên tục trong 4 năm qua.CBBank đã mất hơn 31.000 tỷ đồng vào cuối năm 2019 và được hỗ trợ bởi quản lý, chiến lược từ Vietcombank và Vietinbank. Chính Phạm Minh đề xuất phương pháp tái cấu trúc các ngân hàng yếu và SCB nhằm đảm bảo độ bền và không mất tài sản. Theo cơ quan quản lý, tỷ lệ nợ xấu nội bộ đến cuối năm 2022 là 2%. tuy nhiên, đến cuối tháng 2 năm nay, tỷ lệ nợ xấu đã tăng lên 2,91%, tăng 0,91% so với cuối năm 2022 và gần gấp đôi so với cuối năm 2021 (1,49%). Ngân hàng đã giữ tỷ lệ nợ xấu bên trong dưới 3%, nhưng theo Ngân hàng Nhà nước, một số nợ có thể chuyển sang nhóm nợ nguy hiểm, chẳng hạn như đổi mới và giữ nhóm, đầu tư vào cổ phiếu doanh nghiệp để đổi mới nợ hoặc khó trả lại, lợi nhuận giảm. Ngân hàng Nhà nước cho rằng, nợ có thể được tính và nợ bán hàng của VAMC không được xử lý, tổng nợ xấu của ngân hàng trong bảng kết thúc tháng 2 năm 2023 sẽ là khoảng 5% tổng nợ. Trong tháng 2 năm 2023, ngân hàng xử lý nợ xấu tổng cộng 21.300 tỷ USD, trong đó 41% đặt rủi ro dự phòng, 49% thanh toán cho khách hàng. Trước cuối tháng 1 năm nay, theo Quyết định số 42 của Quốc hội, đã phát hiện và xử lý nợ xấu 416.000 tỷ đồng, trong đó tỷ lệ nợ nội bộ là 211.900 tỷ đồng, tương đương 51% tổng nợ xấu đã xử lý. Tổng nợ trên bảng cân bằng kế toán là 122.100 tỷ đồng, trong đó 82.100 tỷ đồng được thanh toán bằng các loại trái phiếu đặc biệt của VAMC. Đến cuối tháng 1, các tổ chức tín dụng đã sử dụng tổng cộng 223,5 tỷ đồng để đối phó với nợ nội bộ không tốt theo Quyết định số 42 và bán cho VAMC qua phát hành cổ phiếu đặc biệt 40,5 tỷ đồng. \n"
     ]
    }
   ],
   "source": [
    "link_summary_vi = \"\"\n",
    "for line in summary_vi:\n",
    "    link_summary_vi += line + ' '\n",
    "\n",
    "print(link_summary_vi)"
   ]
  },
  {
   "cell_type": "code",
   "execution_count": 43,
   "metadata": {},
   "outputs": [
    {
     "name": "stdout",
     "output_type": "stream",
     "text": [
      "0.6807228866218338\n"
     ]
    }
   ],
   "source": [
    "score4  = evaluate_summary(source,link_summary_vi)\n",
    "print(score4)"
   ]
  },
  {
   "cell_type": "code",
   "execution_count": 44,
   "metadata": {},
   "outputs": [],
   "source": [
    "text_en_vi= \"Ngân hàng Nhà nước đã được phê duyệt chuyển khoản bắt buộc đến CBBank, OceanBank, GPBank và DongABank. Bộ Ngân hàng đã gửi báo cáo đến Hội đồng Kinh tế vào cuối tháng 4 và được phép phê duyệt đề xuất chuyển giao bắt buộc cho bốn ngân hàng được kiểm soát đặc biệt, bao gồm ba ngân hàng mua bắt buộc (CBBank, OceanBank, GPBank) và Ngân hàng Đông Á. Các bên liên quan đang thực hiện các nội dung liên quan để gửi cho Chính phủ phê duyệt các tùy chọn tái cấu trúc của các ngân hàng theo thứ tự, quy định quy trình của Ngân hàng Nhà nước. Ngân hàng Saigon (SCB) được đặt trong khu vực kiểm soát đặc biệt từ tháng 10/2022, Ngân hàng Nhà nước đang thực hiện các thủ tục đánh giá chung để có cơ sở xây dựng lựa chọn cải cách. Sau nửa năm được đặt vào khu vực kiểm soát đặc biệt, theo cơ quan quản lý, hoạt động của SCB đã đã kiểm soát, dần dần ổn định. Năm 2015, ba ngân hàng bao gồm Ngân hàng Xây dựng (CBBank), Ngân hàng Biển (OceanBank) và Ngân hàng dầu khí toàn cầu (GP Bank) được mua lại với giá 0 đồng. Năm ngoái, cơ quan này nói rằng, các biện pháp để đối phó với kiểm soát ngân hàng đặc biệt bao gồm tìm đối tác, đàm phán với các nhà đầu tư sẵn sàng tham gia tái cấu trúc ngân hàng, cùng với tổ chức lại hoạt động mạng, giảm chi phí, và triển khai hoạt động kinh doanh an toàn. OceanBank đã mất hơn 17.900 tỷ đồng vào cuối năm 2019 nhưng đã giảm liên tục trong 4 năm qua.CBBank đã mất hơn 31.000 tỷ đồng vào cuối năm 2019 và được hỗ trợ bởi quản lý, chiến lược từ Vietcombank và Vietinbank. Chính Phạm Minh đề xuất phương pháp tái cấu trúc các ngân hàng yếu và SCB nhằm đảm bảo độ bền và không mất tài sản. Theo cơ quan quản lý, tỷ lệ nợ xấu nội bộ đến cuối năm 2022 là 2%. tuy nhiên, đến cuối tháng 2 năm nay, tỷ lệ nợ xấu đã tăng lên 2,91%, tăng 0,91% so với cuối năm 2022 và gần gấp đôi so với cuối năm 2021 (1,49%). Ngân hàng đã giữ tỷ lệ nợ xấu bên trong dưới 3%, nhưng theo Ngân hàng Nhà nước, một số nợ có thể chuyển sang nhóm nợ nguy hiểm, chẳng hạn như đổi mới và giữ nhóm, đầu tư vào cổ phiếu doanh nghiệp để đổi mới nợ hoặc khó trả lại, lợi nhuận giảm. Ngân hàng Nhà nước cho rằng, nợ có thể được tính và nợ bán hàng của VAMC không được xử lý, tổng nợ xấu của ngân hàng trong bảng kết thúc tháng 2 năm 2023 sẽ là khoảng 5% tổng nợ. Trong tháng 2 năm 2023, ngân hàng xử lý nợ xấu tổng cộng 21.300 tỷ USD, trong đó 41% đặt rủi ro dự phòng, 49% thanh toán cho khách hàng. Trước cuối tháng 1 năm nay, theo Quyết định số 42 của Quốc hội, đã phát hiện và xử lý nợ xấu 416.000 tỷ đồng, trong đó tỷ lệ nợ nội bộ là 211.900 tỷ đồng, tương đương 51% tổng nợ xấu đã xử lý. Tổng nợ trên bảng cân bằng kế toán là 122.100 tỷ đồng, trong đó 82.100 tỷ đồng được thanh toán bằng các loại trái phiếu đặc biệt của VAMC. Đến cuối tháng 1, các tổ chức tín dụng đã sử dụng tổng cộng 223,5 tỷ đồng để đối phó với nợ nội bộ không tốt theo Quyết định số 42 và bán cho VAMC qua phát hành cổ phiếu đặc biệt 40,5 tỷ đồng.\""
   ]
  }
 ],
 "metadata": {
  "kernelspec": {
   "display_name": "web_summarization",
   "language": "python",
   "name": "python3"
  },
  "language_info": {
   "codemirror_mode": {
    "name": "ipython",
    "version": 3
   },
   "file_extension": ".py",
   "mimetype": "text/x-python",
   "name": "python",
   "nbconvert_exporter": "python",
   "pygments_lexer": "ipython3",
   "version": "3.9.13"
  },
  "orig_nbformat": 4
 },
 "nbformat": 4,
 "nbformat_minor": 2
}
